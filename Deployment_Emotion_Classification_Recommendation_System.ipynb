{
  "nbformat": 4,
  "nbformat_minor": 0,
  "metadata": {
    "colab": {
      "provenance": []
    },
    "kernelspec": {
      "name": "python3",
      "display_name": "Python 3"
    },
    "language_info": {
      "name": "python"
    }
  },
  "cells": [
    {
      "cell_type": "markdown",
      "source": [
        "# Deployment of Emotion Classification Recommendation System for Mental Health Support"
      ],
      "metadata": {
        "id": "1JfDpYG2Czb7"
      }
    },
    {
      "cell_type": "markdown",
      "source": [
        "- This notebook is designed for deployment in a real-world application focused on emotion classification and provide a basic mental health support. It leverages a **pre-trained machine learning model (Stacking Classifier using the augmented dataset)** and **the OpenAI API** to classify emotions and provide personalized recommendations.\n",
        "The deployment phase involves:\n",
        "1. Loading the finalized models\n",
        "2. Processing user input\n",
        "3. Making accurate predictions\n",
        "4. Offering actionable suggestions to support mental well-being"
      ],
      "metadata": {
        "id": "psWkQJja6CUJ"
      }
    },
    {
      "cell_type": "markdown",
      "source": [
        "# Step 1: Google Drive links:\n",
        "1. Stacking Model\n",
        "2. TFIDF Vectorizer"
      ],
      "metadata": {
        "id": "BBGuXzx35Ols"
      }
    },
    {
      "cell_type": "markdown",
      "source": [
        "**Stacking Model used for Emotion Classification link:**\n",
        "- https://drive.google.com/file/d/1rgNxtmpNlTDEwbhoV2Lfibxlrd-bQ0K7/view?usp=sharing"
      ],
      "metadata": {
        "id": "xKKvmsyb28V1"
      }
    },
    {
      "cell_type": "markdown",
      "source": [
        "**Tfidf vectorizer (pickle file) link:**\n",
        "- https://drive.google.com/file/d/1au-rofToOgk8nzLnVoXhWFMNu9zKGfNr/view?usp=sharing"
      ],
      "metadata": {
        "id": "6idP4voH3d3d"
      }
    },
    {
      "cell_type": "markdown",
      "source": [
        "# Step 2: Import necessary libraries"
      ],
      "metadata": {
        "id": "L9ezO8MD5Xbc"
      }
    },
    {
      "cell_type": "code",
      "execution_count": null,
      "metadata": {
        "colab": {
          "base_uri": "https://localhost:8080/"
        },
        "id": "ok8JLUSTbR7D",
        "outputId": "dde03a69-e9e4-4924-db52-1d0defe5ffa6"
      },
      "outputs": [
        {
          "output_type": "stream",
          "name": "stdout",
          "text": [
            "Requirement already satisfied: openai==0.28 in /usr/local/lib/python3.10/dist-packages (0.28.0)\n",
            "Requirement already satisfied: requests>=2.20 in /usr/local/lib/python3.10/dist-packages (from openai==0.28) (2.32.3)\n",
            "Requirement already satisfied: tqdm in /usr/local/lib/python3.10/dist-packages (from openai==0.28) (4.66.6)\n",
            "Requirement already satisfied: aiohttp in /usr/local/lib/python3.10/dist-packages (from openai==0.28) (3.11.2)\n",
            "Requirement already satisfied: charset-normalizer<4,>=2 in /usr/local/lib/python3.10/dist-packages (from requests>=2.20->openai==0.28) (3.4.0)\n",
            "Requirement already satisfied: idna<4,>=2.5 in /usr/local/lib/python3.10/dist-packages (from requests>=2.20->openai==0.28) (3.10)\n",
            "Requirement already satisfied: urllib3<3,>=1.21.1 in /usr/local/lib/python3.10/dist-packages (from requests>=2.20->openai==0.28) (2.2.3)\n",
            "Requirement already satisfied: certifi>=2017.4.17 in /usr/local/lib/python3.10/dist-packages (from requests>=2.20->openai==0.28) (2024.8.30)\n",
            "Requirement already satisfied: aiohappyeyeballs>=2.3.0 in /usr/local/lib/python3.10/dist-packages (from aiohttp->openai==0.28) (2.4.3)\n",
            "Requirement already satisfied: aiosignal>=1.1.2 in /usr/local/lib/python3.10/dist-packages (from aiohttp->openai==0.28) (1.3.1)\n",
            "Requirement already satisfied: attrs>=17.3.0 in /usr/local/lib/python3.10/dist-packages (from aiohttp->openai==0.28) (24.2.0)\n",
            "Requirement already satisfied: frozenlist>=1.1.1 in /usr/local/lib/python3.10/dist-packages (from aiohttp->openai==0.28) (1.5.0)\n",
            "Requirement already satisfied: multidict<7.0,>=4.5 in /usr/local/lib/python3.10/dist-packages (from aiohttp->openai==0.28) (6.1.0)\n",
            "Requirement already satisfied: propcache>=0.2.0 in /usr/local/lib/python3.10/dist-packages (from aiohttp->openai==0.28) (0.2.0)\n",
            "Requirement already satisfied: yarl<2.0,>=1.17.0 in /usr/local/lib/python3.10/dist-packages (from aiohttp->openai==0.28) (1.17.2)\n",
            "Requirement already satisfied: async-timeout<6.0,>=4.0 in /usr/local/lib/python3.10/dist-packages (from aiohttp->openai==0.28) (4.0.3)\n",
            "Requirement already satisfied: typing-extensions>=4.1.0 in /usr/local/lib/python3.10/dist-packages (from multidict<7.0,>=4.5->aiohttp->openai==0.28) (4.12.2)\n"
          ]
        }
      ],
      "source": [
        "pip install openai==0.28"
      ]
    },
    {
      "cell_type": "code",
      "source": [
        "import nltk\n",
        "nltk.download('stopwords')\n",
        "from nltk.corpus import stopwords\n",
        "from nltk.stem import PorterStemmer\n",
        "import re\n",
        "from joblib import load\n",
        "import openai"
      ],
      "metadata": {
        "colab": {
          "base_uri": "https://localhost:8080/"
        },
        "id": "mTyU30z2g3j7",
        "outputId": "f56eb067-6131-48c7-e0f4-fc25890a830b"
      },
      "execution_count": null,
      "outputs": [
        {
          "output_type": "stream",
          "name": "stderr",
          "text": [
            "[nltk_data] Downloading package stopwords to /root/nltk_data...\n",
            "[nltk_data]   Package stopwords is already up-to-date!\n"
          ]
        }
      ]
    },
    {
      "cell_type": "markdown",
      "source": [
        "# Step 3: Load necessary models"
      ],
      "metadata": {
        "id": "hHdz9MW15aw3"
      }
    },
    {
      "cell_type": "code",
      "source": [
        "# Load the saved model\n",
        "stacking_model = load('stacking_model_tuned.joblib')\n",
        "print(\"Model loaded successfully.\")\n",
        "\n",
        "# Load the saved TF-IDF vectorizer\n",
        "tfidf = load('tfidf_vectorizer_tuned.pkl')\n",
        "print(\"TF-IDF vectorizer loaded successfully.\")"
      ],
      "metadata": {
        "colab": {
          "base_uri": "https://localhost:8080/"
        },
        "id": "i7ZokTJ4gXAU",
        "outputId": "27ba046a-9318-4409-feb0-8fc92eb28523"
      },
      "execution_count": null,
      "outputs": [
        {
          "output_type": "stream",
          "name": "stdout",
          "text": [
            "Model loaded successfully.\n",
            "TF-IDF vectorizer loaded successfully.\n"
          ]
        }
      ]
    },
    {
      "cell_type": "markdown",
      "source": [
        "# Step 4: Preprocessing Function for the user input\n",
        "- A custom preprocessing function converts input text to lowercase, removes special characters and stopwords, and applies stemming for standardization."
      ],
      "metadata": {
        "id": "a-Mx2NxU5dSK"
      }
    },
    {
      "cell_type": "code",
      "source": [
        "# Preprocessing Function\n",
        "def preprocess_text(input_text):\n",
        "    # Convert to lowercase\n",
        "    text = input_text.lower()\n",
        "\n",
        "    # Remove special characters\n",
        "    text = re.sub(r'[^\\w\\s]', '', text)\n",
        "\n",
        "    # Remove stopwords\n",
        "    stop = set(stopwords.words('english'))\n",
        "    stop.difference_update(['in', 'on'])  # Keep 'in' and 'on' if needed\n",
        "    text = \" \".join(word for word in text.split() if word not in stop)\n",
        "\n",
        "    # Apply stemming\n",
        "    st = PorterStemmer()\n",
        "    text = \" \".join(st.stem(word) for word in text.split())\n",
        "\n",
        "    return text"
      ],
      "metadata": {
        "id": "iXy8IWrngYI6"
      },
      "execution_count": null,
      "outputs": []
    },
    {
      "cell_type": "markdown",
      "source": [
        "# Step 5: Function to make Predictions for the emotion\n",
        "- The user's input is transformed using the TF-IDF vectorizer and passed to the stacking model to predict the emotion."
      ],
      "metadata": {
        "id": "eJtyNc0g5s-1"
      }
    },
    {
      "cell_type": "code",
      "source": [
        "# Function to Make Predictions\n",
        "def predict_emotion(user_input):\n",
        "    # Preprocess the input\n",
        "    cleaned_text = preprocess_text(user_input)\n",
        "\n",
        "    # Transform input using TF-IDF vectorizer\n",
        "    text_vector = tfidf.transform([cleaned_text])\n",
        "\n",
        "    # Predict using the loaded model\n",
        "    prediction = stacking_model.predict(text_vector)\n",
        "\n",
        "    # Output the prediction\n",
        "    print(f\"Predicted Emotion: {prediction[0]}\")\n",
        "    return prediction[0]"
      ],
      "metadata": {
        "id": "cyoqiR4ygZZu"
      },
      "execution_count": null,
      "outputs": []
    },
    {
      "cell_type": "markdown",
      "source": [
        "# Step 6: Setup my API Key\n",
        "- The predicted emotion is used to generate mental health advice via the OpenAI API by constructing a supportive prompt for the model."
      ],
      "metadata": {
        "id": "y17qQEXk5yKv"
      }
    },
    {
      "cell_type": "code",
      "source": [
        "# Set your API key\n",
        "openai.api_key = \"API_KEY\"\n",
        "\n",
        "# Function to generate mental health recommendations\n",
        "def get_mental_health_recommendations(emotion):\n",
        "    \"\"\"\n",
        "    Generate mental health recommendations based on user emotion.\n",
        "\n",
        "    Args:\n",
        "        emotion (str): The emotion provided by the user.\n",
        "\n",
        "    Returns:\n",
        "        str: ChatGPT's response with mental health recommendations.\n",
        "    \"\"\"\n",
        "    # Define the prompt\n",
        "    prompt = f\"\"\"\n",
        "    A user has expressed feeling \"{emotion}\". As a mental health guide, provide recommendations or suggestions to help the user cope with this emotion in a supportive and compassionate manner.\n",
        "    Focus on actionable and practical advice suitable for general use.\n",
        "    \"\"\"\n",
        "\n",
        "    # Call the OpenAI ChatGPT API\n",
        "    try:\n",
        "        response = openai.ChatCompletion.create(\n",
        "            model=\"gpt-3.5-turbo\",\n",
        "            messages=[\n",
        "                {\"role\": \"system\", \"content\": \"You are a mental health assistant.\"},\n",
        "                {\"role\": \"user\", \"content\": prompt},\n",
        "            ],\n",
        "            temperature=0.7,\n",
        "        )\n",
        "\n",
        "        # Extract and return the response\n",
        "        return response['choices'][0]['message']['content'].strip()\n",
        "    except Exception as e:\n",
        "        return f\"An error occurred: {e}\"\n"
      ],
      "metadata": {
        "id": "90F7Bqc-bTO2"
      },
      "execution_count": null,
      "outputs": []
    },
    {
      "cell_type": "markdown",
      "source": [
        "# Step 7: Main function to classify user's emotion and recommend resources about mental health\n",
        "- The script prompts the user for their current emotion, processes it to classify the emotion, and returns practical mental health suggestions."
      ],
      "metadata": {
        "id": "3n1Uz4lF525K"
      }
    },
    {
      "cell_type": "code",
      "source": [
        "# Main function\n",
        "if __name__ == \"__main__\":\n",
        "    # Prompt the user for their emotion\n",
        "    user_emotion = input(\"How are you feeling right now? (e.g., sad, anxious, happy): \").strip()\n",
        "    # Call the prediction function\n",
        "    emotion_predicted = predict_emotion(user_emotion)\n",
        "\n",
        "    # Get recommendations from ChatGPT\n",
        "    recommendations = get_mental_health_recommendations(emotion_predicted)\n",
        "\n",
        "    # Display the recommendations\n",
        "    print(\"\\nHere are some suggestions for you:\")\n",
        "    print(recommendations)"
      ],
      "metadata": {
        "colab": {
          "base_uri": "https://localhost:8080/"
        },
        "id": "PSiqUQ8Vg9B-",
        "outputId": "424ea56e-2760-4add-b5ee-45d1a849b018"
      },
      "execution_count": null,
      "outputs": [
        {
          "output_type": "stream",
          "name": "stdout",
          "text": [
            "How are you feeling right now? (e.g., sad, anxious, happy): When I pass an examination which I did not think I did well.\n",
            "Predicted Emotion: joy\n",
            "\n",
            "Here are some suggestions for you:\n",
            "1. Embrace the Joy: Allow yourself to fully experience and savor the feeling of joy. Acknowledge and appreciate the positive emotions you are feeling without judgment.\n",
            "\n",
            "2. Share Your Joy: Share your joy with others by expressing gratitude or sending a kind message to someone you care about. Sharing your positive emotions can strengthen your relationships and spread positivity.\n",
            "\n",
            "3. Practice Mindfulness: Engage in mindfulness techniques such as deep breathing, meditation, or grounding exercises to help you stay present and fully enjoy the moment of joy.\n",
            "\n",
            "4. Capture the Moment: Consider journaling about the experience that brought you joy or capturing it through photos or artwork. Reflecting on positive moments can help you remember and revisit them during challenging times.\n",
            "\n",
            "5. Engage in Self-Care: Use this moment of joy as an opportunity to prioritize self-care activities that bring you happiness and relaxation. Whether it's taking a walk in nature, listening to music, or indulging in a favorite hobby, make time for activities that nurture your well-being.\n",
            "\n",
            "6. Set Realistic Expectations: Remember that joy is a natural and important emotion, but it is normal for feelings to fluctuate. Embrace the joy while it lasts and be gentle with yourself during moments when you may not feel as joyful.\n",
            "\n",
            "7. Seek Professional Help: If you find yourself struggling to manage your emotions, whether it be overwhelming joy or any other feeling, consider reaching out to a mental health professional for guidance and support.\n",
            "\n",
            "Remember that experiencing joy is a positive and healthy part of life, and it's important to cherish these moments while also taking care of yourself in a balanced way.\n"
          ]
        }
      ]
    }
  ]
}